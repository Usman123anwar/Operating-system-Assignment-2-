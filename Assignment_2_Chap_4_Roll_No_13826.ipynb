{
  "nbformat": 4,
  "nbformat_minor": 0,
  "metadata": {
    "colab": {
      "provenance": []
    },
    "kernelspec": {
      "name": "python3",
      "display_name": "Python 3"
    },
    "language_info": {
      "name": "python"
    }
  },
  "cells": [
    {
      "cell_type": "markdown",
      "source": [
        "# **Assignment 2 **\n",
        "# **Roll NO: MTN-22-13826**\n",
        "# **Chap 4**\n",
        "\n",
        "\n",
        "# **Q 4.11**\n",
        "My Pizzas, Your Pizzas: Start with your program from Exercise 4-1 \n",
        "(page 60). Make a copy of the list of pizzas, and call it friend_pizzas.\n",
        "Then, do the following:\n",
        "\n",
        "•\t Add a new pizza to the original list.\n",
        "\n",
        "•\t Add a different pizza to the list friend_pizzas.\n",
        "\n",
        "•\t Prove that you have two separate lists. Print the message, My favorite \n",
        "pizzas are:, and then use a for loop to print the first list.\n",
        "\n",
        "Print the message, My friend’s favorite pizzas are:, and then use a for loop to print the sec\u0002ond list. Make sure each new pizza is stored in the appropriate."
      ],
      "metadata": {
        "id": "aqi9qFp-7496"
      }
    },
    {
      "cell_type": "code",
      "source": [
        "pizzas = [\"chicken pizza\", \"Beef Pizza\", \"vegetable pizza\"]\n",
        "for pizza in pizzas:\n",
        "    print(\"I like \"+ pizza.title() + \"!\")\n",
        "\n",
        "friend_pizzas = pizzas[:]\n",
        "pizzas.append(\"susi\")\n",
        "friend_pizzas.append(\"juice\")\n",
        "print(\"\\nMy favorite pizzas are:\")\n",
        "for pizza in pizzas:\n",
        "    print(pizza)\n",
        "print(\"\\nMy friend's favorite pizzas are:\")\n",
        "for friend_pizza in friend_pizzas:\n",
        "    print(friend_pizza)"
      ],
      "metadata": {
        "colab": {
          "base_uri": "https://localhost:8080/"
        },
        "id": "JHPrKnWf8fYu",
        "outputId": "eb84b9aa-b478-47f7-c104-aa1121fdee41"
      },
      "execution_count": 1,
      "outputs": [
        {
          "output_type": "stream",
          "name": "stdout",
          "text": [
            "I like Chicken Pizza!\n",
            "I like Beef Pizza!\n",
            "I like Vegetable Pizza!\n",
            "\n",
            "My favorite pizzas are:\n",
            "chicken pizza\n",
            "Beef Pizza\n",
            "vegetable pizza\n",
            "susi\n",
            "\n",
            "My friend's favorite pizzasare:\n",
            "chicken pizza\n",
            "Beef Pizza\n",
            "vegetable pizza\n",
            "juice\n"
          ]
        }
      ]
    },
    {
      "cell_type": "markdown",
      "source": [
        "# **Q 4.13**\n",
        ". Buffet: A buffet-style restaurant offers only five basic foods. Think of five \n",
        "simple foods, and store them in a tuple.\n",
        "\n",
        "•\t Use a for loop to print each food the restaurant offers.\n",
        "\n",
        "•\t Try to modify one of the items, and make sure that Python rejects the \n",
        "change.\n",
        "\n",
        "•\t The restaurant changes its menu, replacing two of the items with different \n",
        "foods. Add a block of code that rewrites the tuple, and then use a for\n",
        "loop to print each of the items on the revised menu.\n"
      ],
      "metadata": {
        "id": "2LtqE78a85vo"
      }
    },
    {
      "cell_type": "code",
      "source": [
        "foods = (\"apple\", \"banana\", \"susi\", \"orange\", \"juice\")\n",
        "for food in foods:\n",
        "    print(food)\n",
        "# food[0] = \"fish\" prompt error\n",
        "\n",
        "foods = (\"fish\", \"beef\", \"susi\", \"orange\", \"juice\")\n",
        "for food in foods:\n",
        "    print(food)"
      ],
      "metadata": {
        "colab": {
          "base_uri": "https://localhost:8080/"
        },
        "id": "9rxtjpIM9HRC",
        "outputId": "4363b93c-01b3-4a60-e042-3b89f7a60eb6"
      },
      "execution_count": 2,
      "outputs": [
        {
          "output_type": "stream",
          "name": "stdout",
          "text": [
            "apple\n",
            "banana\n",
            "susi\n",
            "orange\n",
            "juice\n",
            "fish\n",
            "beef\n",
            "susi\n",
            "orange\n",
            "juice\n"
          ]
        }
      ]
    },
    {
      "cell_type": "markdown",
      "source": [],
      "metadata": {
        "id": "dHQpa0ij9XF4"
      }
    }
  ]
}