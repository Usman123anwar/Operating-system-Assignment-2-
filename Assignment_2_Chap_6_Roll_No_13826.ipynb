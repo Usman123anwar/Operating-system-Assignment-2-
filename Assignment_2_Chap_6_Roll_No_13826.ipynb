{
  "nbformat": 4,
  "nbformat_minor": 0,
  "metadata": {
    "colab": {
      "provenance": []
    },
    "kernelspec": {
      "name": "python3",
      "display_name": "Python 3"
    },
    "language_info": {
      "name": "python"
    }
  },
  "cells": [
    {
      "cell_type": "markdown",
      "source": [
        "# **Assignment 2**\n",
        "# **Roll No: MTN-22-13826**\n",
        "\n",
        "# **Chap 6**\n",
        "\n",
        "\n",
        "\n",
        "# **Q 6.3**\n",
        "\n",
        "A Python dictionary can be used to model an actual dictionary.\n",
        "However, to avoid confusion, let’s call it a glossary.\n",
        "\n",
        "•\t Think of five programming words you’ve learned about in the previous \n",
        "chapters. Use these words as the keys in your glossary, and store their \n",
        "meanings as values.\n",
        "\n",
        "•\t Print each word and its meaning as neatly formatted output. You might \n",
        "print the word followed by a colon and then its meaning, or print the word \n",
        "on one line and then print its meaning indented on a second line. Use the \n",
        "newline character (\\n) to insert a blank line between each word-meaning \n",
        "pair in your output."
      ],
      "metadata": {
        "id": "PWTbx2VOEk4p"
      }
    },
    {
      "cell_type": "code",
      "source": [
        "glossary={'string':'A series of characters.',\n",
        "          'comment':'A note in a program that the Python interpreterignores.',\n",
        "          'list':'A collection of items in a particular order.',\n",
        "          'loop':'Work through a collection of items, one at a time.',\n",
        "          'dictionary':\"A collection of key-value pairs.\",}\n",
        "word='string'\n",
        "print (\"\\n\"+word.title()+\":\"+glossary[word])\n",
        "word='comment'\n",
        "print(\"\\n\"+word.title()+\":\"+glossary[word])\n",
        "word='list'\n",
        "print(\"\\n\"+word.title()+\":\"+glossary[word])\n",
        "word='loop'\n",
        "print(\"\\n\"+word.title()+\":\"+glossary[word])\n",
        "word='dictionary'\n",
        "print(\"\\n\"+word.title()+\":\"+glossary[word])\n",
        "\n",
        "\n",
        "\n"
      ],
      "metadata": {
        "colab": {
          "base_uri": "https://localhost:8080/"
        },
        "id": "VhKx49StGNTM",
        "outputId": "37a29a2d-9aac-4e03-8a59-7acc8dd5c98d"
      },
      "execution_count": 8,
      "outputs": [
        {
          "output_type": "stream",
          "name": "stdout",
          "text": [
            "\n",
            "String:A series of characters.\n",
            "\n",
            "Comment:A note in a program that the Python interpreterignores.\n",
            "\n",
            "List:A collection of items in a particular order.\n",
            "\n",
            "Loop:Work through a collection of items, one at a time.\n",
            "\n",
            "Dictionary:A collection of key-value pairs.\n"
          ]
        }
      ]
    },
    {
      "cell_type": "markdown",
      "source": [
        "# **Q 6.11**\n",
        ". Cities: Make a dictionary called cities. \n",
        "Use the names of three cities as keys in your dictionary. Create a dictionary of information about each city and include the country that the city is in, its approximate population, and one fact about that city.\n",
        "\n",
        " The keys for each city’s dictionary should be something like \n",
        "country, population, and fact. Print the name of each city and all of the infor\u0002mation you have stored about it."
      ],
      "metadata": {
        "id": "vccEYmPnKPyQ"
      }
    },
    {
      "cell_type": "code",
      "source": [
        "cities = {\n",
        "    'Islamabad': {\n",
        "        'country': 'Pakistan',\n",
        "        'population': 1900000,\n",
        "        'Famous': 'CAPITAL',\n",
        "        },\n",
        "    'Multan': {\n",
        "        'country': 'Pakistan',\n",
        "        'population': 2054321,\n",
        "        'Famous': 'SOHAN HALWA',\n",
        "        },\n",
        "    'Karachi': {\n",
        "        'country': 'Pakistan',\n",
        "        'population': 11003285,\n",
        "        'Famous': 'SEA',\n",
        "        }\n",
        "    }\n",
        "\n",
        "for city, city_info in cities.items():\n",
        "    country = city_info['country'].title()\n",
        "    population = city_info['population']\n",
        "    Famous = city_info['Famous'].title()\n",
        "\n",
        "    print(\"\\n\" + city.title() + \" is in \" + country + \".\")\n",
        "    print(\"  It has a population of about \" + str(population) + \".\")\n",
        "    print(\"  The \" + Famous+ \" Famous\")"
      ],
      "metadata": {
        "colab": {
          "base_uri": "https://localhost:8080/"
        },
        "id": "JIb3YjzZKSSl",
        "outputId": "16febc88-0a6c-4a0a-f7da-813ce469af3f"
      },
      "execution_count": 13,
      "outputs": [
        {
          "output_type": "stream",
          "name": "stdout",
          "text": [
            "\n",
            "Islamabad is in Pakistan.\n",
            "  It has a population of about 1900000.\n",
            "  The Capital Famous\n",
            "\n",
            "Multan is in Pakistan.\n",
            "  It has a population of about 2054321.\n",
            "  The Sohan Halwa Famous\n",
            "\n",
            "Karachi is in Pakistan.\n",
            "  It has a population of about 11003285.\n",
            "  The Sea Famous\n"
          ]
        }
      ]
    },
    {
      "cell_type": "markdown",
      "source": [
        "\n",
        "# **Q 6.12**\n",
        " Extensions: We’re now working with examples that are complex enough \n",
        "that they can be extended in any number of ways. Use one of the example pro\u0002grams from this chapter, and extend it by adding new keys and values, chang\u0002ing the context of the program or improving the formatting of the output."
      ],
      "metadata": {
        "id": "uEKk7nubPDnr"
      }
    },
    {
      "cell_type": "code",
      "source": [
        "favorite_languages_Usman = {\n",
        " 'Ali': 'python',\n",
        " 'Ahmad': 'c',\n",
        " 'Nawaz': 'C++',\n",
        " 'Imran': 'python',\n",
        "}\n",
        "print(\"Follwing items are in the dictionary.\")\n",
        "for name,language in favorite_languages_Usman.items():\n",
        "\n",
        " print(name.title()+\"'s favorite Language is: \"+language.title())\n",
        "# adding new keys and values in the dictionary\n",
        "favorite_languages_Usman['Shameer']='html'\n",
        "favorite_languages_Usman['mohsin']='php'\n",
        "print(\"\\nFollwing items are in the dictionary after adding new keys and values.\")\n",
        "for name,language in favorite_languages_Usman.items():\n",
        " print(name.title()+\"'s favorite Language is --> \"+language.upper())\n"
      ],
      "metadata": {
        "colab": {
          "base_uri": "https://localhost:8080/"
        },
        "id": "CCETZUoOPOMK",
        "outputId": "35787fe6-f99a-4de4-d5f6-eb1aafb86d6a"
      },
      "execution_count": 16,
      "outputs": [
        {
          "output_type": "stream",
          "name": "stdout",
          "text": [
            "Follwing items are in the dictionary.\n",
            "Ali's favorite Language is: Python\n",
            "Ahmad's favorite Language is: C\n",
            "Nawaz's favorite Language is: C++\n",
            "Imran's favorite Language is: Python\n",
            "\n",
            "Follwing items are in the dictionary after adding new keys and values.\n",
            "Ali's favorite Language is --> PYTHON\n",
            "Ahmad's favorite Language is --> C\n",
            "Nawaz's favorite Language is --> C++\n",
            "Imran's favorite Language is --> PYTHON\n",
            "Shameer's favorite Language is --> HTML\n",
            "Mohsin's favorite Language is --> PHP\n"
          ]
        }
      ]
    }
  ]
}