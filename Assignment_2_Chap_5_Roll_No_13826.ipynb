{
  "nbformat": 4,
  "nbformat_minor": 0,
  "metadata": {
    "colab": {
      "provenance": []
    },
    "kernelspec": {
      "name": "python3",
      "display_name": "Python 3"
    },
    "language_info": {
      "name": "python"
    }
  },
  "cells": [
    {
      "cell_type": "markdown",
      "source": [
        "# **Assignment 2 **\n",
        "# **Roll No: MTN-22-13826**\n",
        "# **Chap 5 **\n",
        "\n",
        "\n",
        "\n",
        "# **Q 5.2**\n",
        "\n",
        "\n",
        "\n"
      ],
      "metadata": {
        "id": "zoWPI-gL_tSJ"
      }
    },
    {
      "cell_type": "markdown",
      "source": [
        "More Conditional Tests: You don’t have to limit the number of tests you \n",
        "create to 10. If you want to try more comparisons, write more tests and add \n",
        "them to conditional_tests.py. Have at least one True and one False result for \n",
        "each of the following:\n",
        "\n",
        "•\t Tests for equality and inequality with strings\n",
        "\n",
        "•\t Tests using the lower() function\n",
        "\n",
        "•\t Numerical tests involving equality and inequality, greater than and \n",
        "less than, greater than or equal to, and less than or equal to\n",
        "\n",
        "•\t Tests using the and keyword and the or keyword\n",
        "\n",
        "•\t Test whether an item is in a list\n",
        "\n",
        "•\t Test whether an item is not in a list\n",
        "\n"
      ],
      "metadata": {
        "id": "YKQvF_h8DDFy"
      }
    },
    {
      "cell_type": "markdown",
      "source": [],
      "metadata": {
        "id": "hu2l02ZPDMG9"
      }
    },
    {
      "cell_type": "code",
      "source": [],
      "metadata": {
        "id": "H27clSyvDLLN"
      },
      "execution_count": null,
      "outputs": []
    },
    {
      "cell_type": "code",
      "source": [
        "name_1 = \"Usman\"\n",
        "name_2 = \"Hamza\"\n",
        "name_3 = \"Usman\"\n",
        "\n",
        "#Equality of strings\n",
        "\n",
        "if (name_1 == name_3):\n",
        "    print(\"Equal!\")\n",
        "else:\n",
        "    print(\"Unequal!\")\n",
        "\n",
        "# Inequality of strings\n",
        "\n",
        "if(name_1 != name_2):\n",
        "    print(\"The names are unequal\")\n",
        "else:\n",
        "    print(\"The names are equal\")\n",
        "\n",
        "# Numerical tests\n",
        "\n",
        "age_1 = 18\n",
        "\n",
        "age_2 = 23\n",
        "\n",
        "if (age_1 ==18):\n",
        "    print(\"Person is eligible to vote\")\n",
        "\n",
        "if(age_1 != 23):\n",
        "          print(\"Person cannot drink\")\n",
        "\n",
        "if(age_1 <= age_2):\n",
        "    print(\"Yonger\")\n",
        "\n",
        "if(age_2 >= age_1):\n",
        "    print(\"Older\")\n",
        "\n",
        "# and/or keyword test\n",
        "if (age_1 ==18 or age_23>=23):\n",
        "    print(\"Person is eligible for voting\")\n",
        "\n",
        "if(age_1 ==18 and age_2==23):\n",
        "    print(\"Age difference is 5 years\")\n",
        "\n",
        "## Item in list or not\n",
        "fruits = ['apple','peach','melon']\n",
        "if 'apple' in fruits:\n",
        "    print(\"Apple is present in fruits\")\n",
        "if 'guava' not in fruits:\n",
        "    print(\"Guava is not present in fruits\")\n"
      ],
      "metadata": {
        "colab": {
          "base_uri": "https://localhost:8080/"
        },
        "id": "LJt2xQzBC-ma",
        "outputId": "45b343a5-e53c-47a4-9e04-982041b61125"
      },
      "execution_count": 2,
      "outputs": [
        {
          "output_type": "stream",
          "name": "stdout",
          "text": [
            "Equal!\n",
            "The names are unequal\n",
            "Person is eligible to vote\n",
            "Person cannot drink\n",
            "Yonger\n",
            "Older\n",
            "Person is eligible for voting\n",
            "Age difference is 5 years\n",
            "Apple is present in fruits\n",
            "Guava is not present in fruits\n"
          ]
        }
      ]
    }
  ]
}